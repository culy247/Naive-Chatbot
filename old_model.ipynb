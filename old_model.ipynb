{
 "cells": [
  {
   "cell_type": "code",
   "execution_count": 19,
   "metadata": {},
   "outputs": [],
   "source": [
    "#preprocess train data\n",
    "s = []\n",
    "with open(\"data/train_5500.label.txt\", \"r\") as f:\n",
    "    for line in f:\n",
    "        line = \"__label__\" + line\n",
    "        s.append(line)\n",
    "    f.close()\n",
    "with open(\"data/data.train.txt\", \"w+\") as f:\n",
    "    for i in range(len(s)):\n",
    "        f.write(s[i])\n",
    "    f.close()"
   ]
  },
  {
   "cell_type": "code",
   "execution_count": 20,
   "metadata": {},
   "outputs": [],
   "source": [
    "#preprocess test data\n",
    "v = []\n",
    "with open(\"data/TREC_10.label.txt\", \"r\") as f:\n",
    "    for line in f:\n",
    "        line = \"__label__\" + line\n",
    "        v.append(line)\n",
    "    f.close()\n",
    "with open(\"data/data.test.txt\", \"w+\") as f:\n",
    "    for i in range(len(v)):\n",
    "        f.write(v[i])\n",
    "    f.close()"
   ]
  },
  {
   "cell_type": "code",
   "execution_count": 22,
   "metadata": {},
   "outputs": [],
   "source": [
    "import fastText as fasttext"
   ]
  },
  {
   "cell_type": "code",
   "execution_count": 75,
   "metadata": {},
   "outputs": [],
   "source": [
    "model = fasttext.load_model('fastText/model.bin')\n",
    "def classify(sentence):\n",
    "    result = model.predict(sentence)\n",
    "    return result[0][0]"
   ]
  },
  {
   "cell_type": "code",
   "execution_count": 76,
   "metadata": {},
   "outputs": [
    {
     "name": "stdout",
     "output_type": "stream",
     "text": [
      "__label__desc:manner\n"
     ]
    }
   ],
   "source": [
    "print (classify(\"manner how did serfdom develop in and then leave russia\"))"
   ]
  }
 ],
 "metadata": {
  "kernelspec": {
   "display_name": "Python 2",
   "language": "python",
   "name": "python2"
  },
  "language_info": {
   "codemirror_mode": {
    "name": "ipython",
    "version": 2
   },
   "file_extension": ".py",
   "mimetype": "text/x-python",
   "name": "python",
   "nbconvert_exporter": "python",
   "pygments_lexer": "ipython2",
   "version": "2.7.12"
  }
 },
 "nbformat": 4,
 "nbformat_minor": 2
}
