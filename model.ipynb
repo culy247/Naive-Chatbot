{
 "cells": [
  {
   "cell_type": "code",
   "execution_count": 1,
   "metadata": {},
   "outputs": [],
   "source": [
    "from subprocess import call"
   ]
  },
  {
   "cell_type": "code",
   "execution_count": 3,
   "metadata": {},
   "outputs": [
    {
     "data": {
      "text/plain": [
       "0"
      ]
     },
     "execution_count": 3,
     "metadata": {},
     "output_type": "execute_result"
    }
   ],
   "source": [
    "call(['sh', 'word-represent.sh'])"
   ]
  },
  {
   "cell_type": "code",
   "execution_count": 4,
   "metadata": {},
   "outputs": [],
   "source": [
    "from sklearn.neighbors import NearestNeighbors\n",
    "import numpy as np\n",
    "\n",
    "def buildVectorQuestion(args):\n",
    "    with open('data/message.txt', 'w+') as f:\n",
    "        f.write(args)\n",
    "        f.close()\n",
    "    call(['sh', 'message-vector.sh'])\n",
    "    \n",
    "def getVectorQuestion(path):\n",
    "    with open(path, 'r') as f:\n",
    "        vec_list_question = []\n",
    "        for line in f:\n",
    "            line = line.split()\n",
    "            vec_list_question.append(line)\n",
    "    return vec_list_question\n",
    "            \n",
    "def getSimilarMessage(args):\n",
    "    buildVectorQuestion(args)\n",
    "    #get vector question and message\n",
    "    Question = getVectorQuestion('data/question_vector.txt')\n",
    "    Message = getVectorQuestion('data/message_vector.txt')\n",
    "    Qu = np.array(Question)\n",
    "    Me = np.array(Message)\n",
    "    #fit Nearest Neighbor\n",
    "    Out = NearestNeighbors(n_neighbors=1)\n",
    "    Out.fit(Qu)\n",
    "    #find out Nearest Neighbor\n",
    "    flagMessage = Out.kneighbors(X=Me, n_neighbors=1, return_distance=False)\n",
    "    return flagMessage"
   ]
  },
  {
   "cell_type": "code",
   "execution_count": 5,
   "metadata": {},
   "outputs": [
    {
     "name": "stdout",
     "output_type": "stream",
     "text": [
      "(1, 300)\n"
     ]
    }
   ],
   "source": [
    "buildVectorQuestion(\"Ê mày, tao bảo\")\n",
    "Question = getVectorQuestion('data/question_vector.txt')\n",
    "Message = getVectorQuestion('data/message_vector.txt')\n",
    "Qu = np.array(Question)\n",
    "Me = np.array(Message)\n",
    "print(Me.shape)"
   ]
  },
  {
   "cell_type": "code",
   "execution_count": 6,
   "metadata": {},
   "outputs": [],
   "source": [
    "mess = \"Êu, nay đi chơi đâu không\"\n",
    "question = getSimilarMessage(mess)"
   ]
  },
  {
   "cell_type": "code",
   "execution_count": 7,
   "metadata": {},
   "outputs": [
    {
     "name": "stdout",
     "output_type": "stream",
     "text": [
      "<class 'str'>\n"
     ]
    }
   ],
   "source": [
    "print(type(str(question[0][0])))"
   ]
  },
  {
   "cell_type": "code",
   "execution_count": 8,
   "metadata": {},
   "outputs": [],
   "source": [
    "import random\n",
    "def getAnswerMessage(question):\n",
    "    path = 'data/respond'\n",
    "    with open(path + '/' + str(question), 'r') as f:\n",
    "        vec = []\n",
    "        for line in f:\n",
    "            vec.append(line)\n",
    "        f.close()\n",
    "    resNum = random.random() * len(vec)\n",
    "    return vec[int(resNum)]"
   ]
  },
  {
   "cell_type": "code",
   "execution_count": 9,
   "metadata": {},
   "outputs": [
    {
     "name": "stdout",
     "output_type": "stream",
     "text": [
      "Rat hay\n",
      "\n"
     ]
    }
   ],
   "source": [
    "respond = getAnswerMessage(question[0][0])\n",
    "print(respond)"
   ]
  },
  {
   "cell_type": "code",
   "execution_count": null,
   "metadata": {},
   "outputs": [],
   "source": [
    "mess = \"Xin chào hihi\"\n"
   ]
  }
 ],
 "metadata": {
  "kernelspec": {
   "display_name": "Python 2",
   "language": "python",
   "name": "python2"
  },
  "language_info": {
   "codemirror_mode": {
    "name": "ipython",
    "version": 3
   },
   "file_extension": ".py",
   "mimetype": "text/x-python",
   "name": "python",
   "nbconvert_exporter": "python",
   "pygments_lexer": "ipython3",
   "version": "3.5.2"
  }
 },
 "nbformat": 4,
 "nbformat_minor": 2
}
