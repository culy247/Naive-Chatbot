{
 "cells": [
  {
   "cell_type": "code",
   "execution_count": 3,
   "metadata": {},
   "outputs": [
    {
     "name": "stdout",
     "output_type": "stream",
     "text": [
      "Hey \n",
      "địt con mẹ chúng mày chứ ''haha''\n",
      "\n",
      "Tao giết m bây giờ\n",
      "Lê Dịu 🙂 \n",
      "\n",
      "Tao không hiểu, nhắc lại t xem \n",
      "Hôm bữa sợ bị trừ điểm thanh lịch nên hk dám viết ai viết ùi đăng dùm mình vậy nè\n",
      "\n",
      "Xin chào bạn \n",
      "Gấu bựa teddy thì phải\n",
      "\n",
      "quit()\n"
     ]
    }
   ],
   "source": [
    "import model\n",
    "while (True):\n",
    "    Message = input()\n",
    "    if (Message == 'quit()'):\n",
    "        break\n",
    "    question = model.getSimilarMessage(Message)\n",
    "    respond = model.getAnswerMessage(question[0][0])\n",
    "    print(respond)"
   ]
  },
  {
   "cell_type": "code",
   "execution_count": null,
   "metadata": {},
   "outputs": [],
   "source": []
  }
 ],
 "metadata": {
  "kernelspec": {
   "display_name": "Python 2",
   "language": "python",
   "name": "python2"
  },
  "language_info": {
   "codemirror_mode": {
    "name": "ipython",
    "version": 3
   },
   "file_extension": ".py",
   "mimetype": "text/x-python",
   "name": "python",
   "nbconvert_exporter": "python",
   "pygments_lexer": "ipython3",
   "version": "3.5.2"
  }
 },
 "nbformat": 4,
 "nbformat_minor": 2
}
