{
 "cells": [
  {
   "cell_type": "code",
   "execution_count": 1,
   "metadata": {},
   "outputs": [],
   "source": [
    "def cleanMessage(message):\n",
    "    \n",
    "    cleanedMessage = message.replace('[','')\n",
    "    cleanedMessage = cleanedMessage.replace(']', '')\n",
    "    cleanedMessage = cleanedMessage.replace('.', '')\n",
    "    cleanedMessage = cleanedMessage.replace(',', '')\n",
    "    cleanedMessage = cleanedMessage.replace('?', '')\n",
    "    cleanedMessage = cleanedMessage.replace('!', '')\n",
    "    cleanedMessage = cleanedMessage.replace('(', '')\n",
    "    cleanedMessage = cleanedMessage.replace(')', '')\n",
    "    cleanedMessage = cleanedMessage.replace('-', '')\n",
    "    cleanedMessage = cleanedMessage.replace('=', '')\n",
    "    cleanedMessage = cleanedMessage.replace('<br>', '')\n",
    "    \n",
    "    \n",
    "    return cleanedMessage"
   ]
  },
  {
   "cell_type": "code",
   "execution_count": 3,
   "metadata": {},
   "outputs": [],
   "source": [
    "import os \n",
    "\n",
    "path = 'data/Pos_comment'\n",
    "pathout = 'data/respond'\n",
    "out = open(\"data/question.txt\", 'w+')\n",
    "check = True\n",
    "i = 0\n",
    "for filename in os.listdir(path):\n",
    "    with open(path + '/' + filename, 'r') as f:\n",
    "        res = open(pathout + '/' + str(i), 'w+')\n",
    "        for line in f:\n",
    "            line = cleanMessage(line)\n",
    "            data = line.split('<|TAB|>')\n",
    "            if (check):\n",
    "                out.write(data[0] + '\\n')\n",
    "                check = False\n",
    "            #break\n",
    "            if (data[1] != '\\n'):\n",
    "                res.write(data[1])\n",
    "        i = i + 1\n",
    "        res.close()\n",
    "        f.close()\n",
    "        check = True\n",
    "out.close()"
   ]
  },
  {
   "cell_type": "code",
   "execution_count": 4,
   "metadata": {},
   "outputs": [],
   "source": [
    "prep = open('data/prep_question.txt', 'w+')\n",
    "with open('data/question.txt', 'r') as f:\n",
    "    for line in f:\n",
    "        data = line.split()\n",
    "        sentence = \"\"\n",
    "        for word in data:\n",
    "            if (word[:4] == 'http'):\n",
    "                line = line.replace(word, \"\")\n",
    "            if (word[:1] == '#'):\n",
    "                line = line.replace(word, \"\")\n",
    "        prep.write(line)\n",
    "prep.close()"
   ]
  },
  {
   "cell_type": "code",
   "execution_count": null,
   "metadata": {},
   "outputs": [],
   "source": []
  }
 ],
 "metadata": {
  "kernelspec": {
   "display_name": "Python 2",
   "language": "python",
   "name": "python2"
  },
  "language_info": {
   "codemirror_mode": {
    "name": "ipython",
    "version": 3
   },
   "file_extension": ".py",
   "mimetype": "text/x-python",
   "name": "python",
   "nbconvert_exporter": "python",
   "pygments_lexer": "ipython3",
   "version": "3.5.2"
  }
 },
 "nbformat": 4,
 "nbformat_minor": 2
}
